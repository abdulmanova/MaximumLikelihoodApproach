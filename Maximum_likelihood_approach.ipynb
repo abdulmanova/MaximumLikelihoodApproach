{
  "nbformat": 4,
  "nbformat_minor": 0,
  "metadata": {
    "colab": {
      "name": "Maximum likelihood approach.ipynb",
      "provenance": []
    },
    "kernelspec": {
      "name": "python3",
      "display_name": "Python 3"
    },
    "language_info": {
      "name": "python"
    }
  },
  "cells": [
    {
      "cell_type": "code",
      "metadata": {
        "id": "yvhvTpuIwMwF"
      },
      "source": [
        "import pandas as pd\n",
        "data = pd.read_csv('Real estate.csv')"
      ],
      "execution_count": 12,
      "outputs": []
    },
    {
      "cell_type": "code",
      "metadata": {
        "colab": {
          "base_uri": "https://localhost:8080/",
          "height": 220
        },
        "id": "AJRzdkIOnqTb",
        "outputId": "363ac9aa-e8f5-4042-8c09-5c9aee8b0fcb"
      },
      "source": [
        "data.head()"
      ],
      "execution_count": 13,
      "outputs": [
        {
          "output_type": "execute_result",
          "data": {
            "text/html": [
              "<div>\n",
              "<style scoped>\n",
              "    .dataframe tbody tr th:only-of-type {\n",
              "        vertical-align: middle;\n",
              "    }\n",
              "\n",
              "    .dataframe tbody tr th {\n",
              "        vertical-align: top;\n",
              "    }\n",
              "\n",
              "    .dataframe thead th {\n",
              "        text-align: right;\n",
              "    }\n",
              "</style>\n",
              "<table border=\"1\" class=\"dataframe\">\n",
              "  <thead>\n",
              "    <tr style=\"text-align: right;\">\n",
              "      <th></th>\n",
              "      <th>No</th>\n",
              "      <th>X1 transaction date</th>\n",
              "      <th>X2 house age</th>\n",
              "      <th>X3 distance to the nearest MRT station</th>\n",
              "      <th>X4 number of convenience stores</th>\n",
              "      <th>X5 latitude</th>\n",
              "      <th>X6 longitude</th>\n",
              "      <th>Y house price of unit area</th>\n",
              "    </tr>\n",
              "  </thead>\n",
              "  <tbody>\n",
              "    <tr>\n",
              "      <th>0</th>\n",
              "      <td>1</td>\n",
              "      <td>2012.917</td>\n",
              "      <td>32.0</td>\n",
              "      <td>84.87882</td>\n",
              "      <td>10</td>\n",
              "      <td>24.98298</td>\n",
              "      <td>121.54024</td>\n",
              "      <td>37.9</td>\n",
              "    </tr>\n",
              "    <tr>\n",
              "      <th>1</th>\n",
              "      <td>2</td>\n",
              "      <td>2012.917</td>\n",
              "      <td>19.5</td>\n",
              "      <td>306.59470</td>\n",
              "      <td>9</td>\n",
              "      <td>24.98034</td>\n",
              "      <td>121.53951</td>\n",
              "      <td>42.2</td>\n",
              "    </tr>\n",
              "    <tr>\n",
              "      <th>2</th>\n",
              "      <td>3</td>\n",
              "      <td>2013.583</td>\n",
              "      <td>13.3</td>\n",
              "      <td>561.98450</td>\n",
              "      <td>5</td>\n",
              "      <td>24.98746</td>\n",
              "      <td>121.54391</td>\n",
              "      <td>47.3</td>\n",
              "    </tr>\n",
              "    <tr>\n",
              "      <th>3</th>\n",
              "      <td>4</td>\n",
              "      <td>2013.500</td>\n",
              "      <td>13.3</td>\n",
              "      <td>561.98450</td>\n",
              "      <td>5</td>\n",
              "      <td>24.98746</td>\n",
              "      <td>121.54391</td>\n",
              "      <td>54.8</td>\n",
              "    </tr>\n",
              "    <tr>\n",
              "      <th>4</th>\n",
              "      <td>5</td>\n",
              "      <td>2012.833</td>\n",
              "      <td>5.0</td>\n",
              "      <td>390.56840</td>\n",
              "      <td>5</td>\n",
              "      <td>24.97937</td>\n",
              "      <td>121.54245</td>\n",
              "      <td>43.1</td>\n",
              "    </tr>\n",
              "  </tbody>\n",
              "</table>\n",
              "</div>"
            ],
            "text/plain": [
              "   No  X1 transaction date  ...  X6 longitude  Y house price of unit area\n",
              "0   1             2012.917  ...     121.54024                        37.9\n",
              "1   2             2012.917  ...     121.53951                        42.2\n",
              "2   3             2013.583  ...     121.54391                        47.3\n",
              "3   4             2013.500  ...     121.54391                        54.8\n",
              "4   5             2012.833  ...     121.54245                        43.1\n",
              "\n",
              "[5 rows x 8 columns]"
            ]
          },
          "metadata": {},
          "execution_count": 13
        }
      ]
    },
    {
      "cell_type": "code",
      "metadata": {
        "colab": {
          "base_uri": "https://localhost:8080/"
        },
        "id": "j3gGRr6jn2t8",
        "outputId": "d8ee3129-9b61-408a-e931-44eae87e6067"
      },
      "source": [
        "data = data.drop('No', axis= 1)\n",
        "data.info()"
      ],
      "execution_count": 14,
      "outputs": [
        {
          "output_type": "stream",
          "name": "stdout",
          "text": [
            "<class 'pandas.core.frame.DataFrame'>\n",
            "RangeIndex: 414 entries, 0 to 413\n",
            "Data columns (total 7 columns):\n",
            " #   Column                                  Non-Null Count  Dtype  \n",
            "---  ------                                  --------------  -----  \n",
            " 0   X1 transaction date                     414 non-null    float64\n",
            " 1   X2 house age                            414 non-null    float64\n",
            " 2   X3 distance to the nearest MRT station  414 non-null    float64\n",
            " 3   X4 number of convenience stores         414 non-null    int64  \n",
            " 4   X5 latitude                             414 non-null    float64\n",
            " 5   X6 longitude                            414 non-null    float64\n",
            " 6   Y house price of unit area              414 non-null    float64\n",
            "dtypes: float64(6), int64(1)\n",
            "memory usage: 22.8 KB\n"
          ]
        }
      ]
    },
    {
      "cell_type": "code",
      "metadata": {
        "colab": {
          "base_uri": "https://localhost:8080/",
          "height": 296
        },
        "id": "KjqYDBXb0ZIz",
        "outputId": "da9c8eab-ab6e-4811-c242-05406bc77027"
      },
      "source": [
        "import seaborn as sns\n",
        "sns.kdeplot(data['X1 transaction date'])"
      ],
      "execution_count": 15,
      "outputs": [
        {
          "output_type": "execute_result",
          "data": {
            "text/plain": [
              "<matplotlib.axes._subplots.AxesSubplot at 0x7fadb8feabd0>"
            ]
          },
          "metadata": {},
          "execution_count": 15
        },
        {
          "output_type": "display_data",
          "data": {
            "image/png": "[encoded data removed]",
            "text/plain": [
              "<Figure size 432x288 with 1 Axes>"
            ]
          },
          "metadata": {
            "needs_background": "light"
          }
        }
      ]
    },
    {
      "cell_type": "code",
      "metadata": {
        "id": "KQrhOQXk11eC"
      },
      "source": [
        "x = data.iloc[:, :6]\n",
        "y = data.iloc[:, 6]\n"
      ],
      "execution_count": 16,
      "outputs": []
    },
    {
      "cell_type": "code",
      "metadata": {
        "id": "xPM3cQNR1hoB"
      },
      "source": [
        "from sklearn.model_selection import train_test_split\n",
        "x_train, x_test, y_train, y_test = train_test_split(x, y, test_size = 0.2, random_state = 0)"
      ],
      "execution_count": 17,
      "outputs": []
    },
    {
      "cell_type": "code",
      "metadata": {
        "id": "INjCTtxU41Yx"
      },
      "source": [
        " from matplotlib import pyplot as plt\n",
        " from statsmodels import api\n",
        " from scipy import stats\n",
        " from scipy.optimize import minimize"
      ],
      "execution_count": 18,
      "outputs": []
    },
    {
      "cell_type": "code",
      "metadata": {
        "colab": {
          "base_uri": "https://localhost:8080/"
        },
        "id": "bp1BnTzoqL-_",
        "outputId": "1f24b4ff-7f7d-483b-de0d-7946015d7013"
      },
      "source": [
        "from scipy.stats import norm\n",
        "loc, scale = norm.fit(x_train)\n",
        "print(f\"mean is {loc} and standard diviation is {scale}\")\n"
      ],
      "execution_count": 19,
      "outputs": [
        {
          "output_type": "stream",
          "name": "stdout",
          "text": [
            "mean is 547.8907804934541 and standard diviation is 919.2305546195536\n"
          ]
        }
      ]
    },
    {
      "cell_type": "code",
      "metadata": {
        "id": "TvhmZiuBCqYc"
      },
      "source": [
        "y_train = pd.DataFrame(y_train)"
      ],
      "execution_count": 20,
      "outputs": []
    },
    {
      "cell_type": "markdown",
      "metadata": {
        "id": "8W9dgggBAhz2"
      },
      "source": [
        "We will maximise the natural logarithm of the likelihood. So, the aim is to find w and σ that will maximise the logarithm.\n"
      ]
    },
    {
      "cell_type": "markdown",
      "metadata": {
        "id": "jXZpd4jHBtyD"
      },
      "source": [
        "$logL = -Nln(\\sqrt2Πασ)-\\frac{1}{2}\\sum_{n=0}^N (\\frac{x_{n}}{σ})^2\n",
        "$"
      ]
    },
    {
      "cell_type": "markdown",
      "metadata": {
        "id": "B--BYQOOaRGN"
      },
      "source": [
        "$α = \\sqrt(\\frac{1}{N}\\sum_{n=1}^N(\\frac{x_{n}}{σ})^2\n",
        "$"
      ]
    },
    {
      "cell_type": "code",
      "metadata": {
        "colab": {
          "base_uri": "https://localhost:8080/"
        },
        "id": "KkeRy0R1av7L",
        "outputId": "7469d6e1-f102-42d9-ef74-e2d0e7a2c62c"
      },
      "source": [
        "from math import sqrt\n",
        "alpha = 0\n",
        "for indices, row in x_train.iterrows():\n",
        "    for column in x_train.columns:\n",
        "        alpha += (row[column]/scale)**2\n",
        "alpha = sqrt(alpha / (len(x_train)*len(x_train.columns)))\n",
        "print(alpha)"
      ],
      "execution_count": 21,
      "outputs": [
        {
          "output_type": "stream",
          "name": "stdout",
          "text": [
            "1.1641538068916435\n"
          ]
        }
      ]
    },
    {
      "cell_type": "markdown",
      "metadata": {
        "id": "hS3n9bzTdURm"
      },
      "source": [
        "$αX_{n}+σ^2 = Y_{n}$\n"
      ]
    },
    {
      "cell_type": "code",
      "metadata": {
        "id": "3C-W2J_udvNg"
      },
      "source": [
        "mean_error = 0\n",
        "j = -1\n",
        "for indices, row in x_train.iterrows():\n",
        "  y_pred = 0\n",
        "  for column in x_train.columns:\n",
        "    y_pred += ((row[column]*alpha)+scale)\n",
        "  j += 1\n",
        "  mean_error += y_pred\n",
        "y_target = 0\n",
        "for indices, row in y_train.iterrows():\n",
        "  for column in y_train.columns:\n",
        "    y_target += row[column]\n",
        "mean_error = abs(y_pred - y_target) / len(x_train)"
      ],
      "execution_count": 24,
      "outputs": []
    },
    {
      "cell_type": "code",
      "metadata": {
        "colab": {
          "base_uri": "https://localhost:8080/"
        },
        "id": "JjYPbwE7lErE",
        "outputId": "8dc6f0af-eff1-4656-91f7-a968cc1a5019"
      },
      "source": [
        "\n",
        "print(f\"mean_error is {mean_error}\")"
      ],
      "execution_count": 25,
      "outputs": [
        {
          "output_type": "stream",
          "name": "stdout",
          "text": [
            "mean_error is 13.343389629718999\n"
          ]
        }
      ]
    }
  ]
}